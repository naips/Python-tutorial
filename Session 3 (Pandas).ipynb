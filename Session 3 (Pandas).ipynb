{
 "cells": [
  {
   "cell_type": "markdown",
   "metadata": {},
   "source": [
    "This is the third session on basic usage of Python 3, which is focussed on general usage.\n",
    "\n",
    "## Course Structure\n",
    "\n",
    "### Session 3\n",
    "**Introduction**\n",
    "* Reading/writing to/from a file\n",
    "* Data Structures\n",
    "    - Series\n",
    "    - DataFrame\n",
    "\n",
    "**More with pandas**\n",
    "* Dropping rows/columns\n",
    "* Subseting\n",
    "    - Indexing\n",
    "    - Selection \n",
    "    - Filtering\n",
    "* Null values\n",
    "    - No of null values\n",
    "    - Imputation of Null values\n",
    "* Function application with mapping\n",
    "    - apply function \n",
    "    - apply function wih lambda\n",
    "    - map \n",
    "* Summarizing and Computing Descriptive Statistics\n",
    "\n",
    "**Homework**\n"
   ]
  },
  {
   "cell_type": "markdown",
   "metadata": {},
   "source": [
    "## Introduction"
   ]
  },
  {
   "cell_type": "markdown",
   "metadata": {},
   "source": [
    "<font color = 'blue'> pandas contains high-level data structures and manipulation tools designed to make data\n",
    "analysis fast and easy in Python. <br> pandas is built on top of NumPy and makes it easy to\n",
    "use in NumPy-centric applications <font color = 'blue'>"
   ]
  },
  {
   "cell_type": "markdown",
   "metadata": {},
   "source": [
    "<font color = 'blue'>\n",
    "• Data structures with labeled axes supporting automatic or explicit data alignment. <br>\n",
    "• Arithmetic operations and reductions (like summing across an axis) would pass \n",
    "on the metadata (axis labels).<br>\n",
    "• Flexible handling of missing data.<br>\n",
    "• Merge and other relational operations found in popular database databases (SQLbased,\n",
    "for example)<br>\n",
    "• Integrated time series functionality. <br>\n",
    "• The same data structures handle both time series data and non-time series data. <br>\n",
    "• Visualization<br>\n",
    "<font color = 'blue'>"
   ]
  },
  {
   "cell_type": "markdown",
   "metadata": {},
   "source": [
    "## Reading/writing to/from a file"
   ]
  },
  {
   "cell_type": "code",
   "execution_count": 3,
   "metadata": {},
   "outputs": [],
   "source": [
    "import pandas as pd"
   ]
  },
  {
   "cell_type": "code",
   "execution_count": 4,
   "metadata": {},
   "outputs": [],
   "source": [
    "file_name = \"C:/Users/singhn25/Downloads/Python_Sessions/au-towns-sample.csv\"\n",
    "df_csv = pd.read_csv(file_name)"
   ]
  },
  {
   "cell_type": "code",
   "execution_count": 5,
   "metadata": {},
   "outputs": [
    {
     "data": {
      "text/html": [
       "<div>\n",
       "<style scoped>\n",
       "    .dataframe tbody tr th:only-of-type {\n",
       "        vertical-align: middle;\n",
       "    }\n",
       "\n",
       "    .dataframe tbody tr th {\n",
       "        vertical-align: top;\n",
       "    }\n",
       "\n",
       "    .dataframe thead th {\n",
       "        text-align: right;\n",
       "    }\n",
       "</style>\n",
       "<table border=\"1\" class=\"dataframe\">\n",
       "  <thead>\n",
       "    <tr style=\"text-align: right;\">\n",
       "      <th></th>\n",
       "      <th>id</th>\n",
       "      <th>town</th>\n",
       "      <th>urban_area</th>\n",
       "      <th>state_code</th>\n",
       "      <th>state</th>\n",
       "      <th>postcode</th>\n",
       "      <th>type</th>\n",
       "      <th>latitude</th>\n",
       "      <th>longitude</th>\n",
       "      <th>elevation</th>\n",
       "      <th>population</th>\n",
       "      <th>median_income</th>\n",
       "      <th>area_sq_km</th>\n",
       "      <th>local_government_area</th>\n",
       "      <th>region</th>\n",
       "      <th>time_zone</th>\n",
       "    </tr>\n",
       "  </thead>\n",
       "  <tbody>\n",
       "    <tr>\n",
       "      <td>0</td>\n",
       "      <td>1</td>\n",
       "      <td>Aarons Pass</td>\n",
       "      <td>NaN</td>\n",
       "      <td>NSW</td>\n",
       "      <td>New South Wales</td>\n",
       "      <td>2850</td>\n",
       "      <td>Rural locality</td>\n",
       "      <td>-32.86328</td>\n",
       "      <td>149.80375</td>\n",
       "      <td>804</td>\n",
       "      <td>22</td>\n",
       "      <td>29900</td>\n",
       "      <td>82.764</td>\n",
       "      <td>Mid-Western Regional (Area)</td>\n",
       "      <td>Central West</td>\n",
       "      <td>Australia/Sydney</td>\n",
       "    </tr>\n",
       "    <tr>\n",
       "      <td>1</td>\n",
       "      <td>2</td>\n",
       "      <td>Abba River</td>\n",
       "      <td>NaN</td>\n",
       "      <td>WA</td>\n",
       "      <td>Western Australia</td>\n",
       "      <td>6280</td>\n",
       "      <td>Rural locality</td>\n",
       "      <td>-33.68488</td>\n",
       "      <td>115.46334</td>\n",
       "      <td>23</td>\n",
       "      <td>68</td>\n",
       "      <td>35100</td>\n",
       "      <td>28.516</td>\n",
       "      <td>Busselton (City)</td>\n",
       "      <td>Bunbury</td>\n",
       "      <td>Australia/Perth</td>\n",
       "    </tr>\n",
       "    <tr>\n",
       "      <td>2</td>\n",
       "      <td>3</td>\n",
       "      <td>Abbey</td>\n",
       "      <td>Busselton</td>\n",
       "      <td>WA</td>\n",
       "      <td>Western Australia</td>\n",
       "      <td>6280</td>\n",
       "      <td>Suburb</td>\n",
       "      <td>-33.66077</td>\n",
       "      <td>115.25863</td>\n",
       "      <td>7</td>\n",
       "      <td>1275</td>\n",
       "      <td>34580</td>\n",
       "      <td>2.644</td>\n",
       "      <td>Busselton (City)</td>\n",
       "      <td>Bunbury</td>\n",
       "      <td>Australia/Perth</td>\n",
       "    </tr>\n",
       "    <tr>\n",
       "      <td>3</td>\n",
       "      <td>4</td>\n",
       "      <td>Abbeyard</td>\n",
       "      <td>NaN</td>\n",
       "      <td>VIC</td>\n",
       "      <td>Victoria</td>\n",
       "      <td>3737</td>\n",
       "      <td>Rural locality</td>\n",
       "      <td>-36.96978</td>\n",
       "      <td>146.75244</td>\n",
       "      <td>415</td>\n",
       "      <td>0</td>\n",
       "      <td>0</td>\n",
       "      <td>327.501</td>\n",
       "      <td>Alpine (Shire)</td>\n",
       "      <td>Hume</td>\n",
       "      <td>Australia/Melbourne</td>\n",
       "    </tr>\n",
       "    <tr>\n",
       "      <td>4</td>\n",
       "      <td>5</td>\n",
       "      <td>Abbeywood</td>\n",
       "      <td>NaN</td>\n",
       "      <td>QLD</td>\n",
       "      <td>Queensland</td>\n",
       "      <td>4613</td>\n",
       "      <td>Rural locality</td>\n",
       "      <td>-26.10688</td>\n",
       "      <td>151.62880</td>\n",
       "      <td>429</td>\n",
       "      <td>23</td>\n",
       "      <td>16484</td>\n",
       "      <td>35.035</td>\n",
       "      <td>South Burnett (Regional Council)</td>\n",
       "      <td>Wide Bay</td>\n",
       "      <td>Australia/Brisbane</td>\n",
       "    </tr>\n",
       "  </tbody>\n",
       "</table>\n",
       "</div>"
      ],
      "text/plain": [
       "   id         town urban_area state_code              state  postcode  \\\n",
       "0   1  Aarons Pass        NaN        NSW    New South Wales      2850   \n",
       "1   2   Abba River        NaN         WA  Western Australia      6280   \n",
       "2   3        Abbey  Busselton         WA  Western Australia      6280   \n",
       "3   4     Abbeyard        NaN        VIC           Victoria      3737   \n",
       "4   5    Abbeywood        NaN        QLD         Queensland      4613   \n",
       "\n",
       "             type  latitude  longitude  elevation  population  median_income  \\\n",
       "0  Rural locality -32.86328  149.80375        804          22          29900   \n",
       "1  Rural locality -33.68488  115.46334         23          68          35100   \n",
       "2          Suburb -33.66077  115.25863          7        1275          34580   \n",
       "3  Rural locality -36.96978  146.75244        415           0              0   \n",
       "4  Rural locality -26.10688  151.62880        429          23          16484   \n",
       "\n",
       "   area_sq_km             local_government_area        region  \\\n",
       "0      82.764       Mid-Western Regional (Area)  Central West   \n",
       "1      28.516                  Busselton (City)       Bunbury   \n",
       "2       2.644                  Busselton (City)       Bunbury   \n",
       "3     327.501                    Alpine (Shire)          Hume   \n",
       "4      35.035  South Burnett (Regional Council)      Wide Bay   \n",
       "\n",
       "             time_zone  \n",
       "0     Australia/Sydney  \n",
       "1      Australia/Perth  \n",
       "2      Australia/Perth  \n",
       "3  Australia/Melbourne  \n",
       "4   Australia/Brisbane  "
      ]
     },
     "execution_count": 5,
     "metadata": {},
     "output_type": "execute_result"
    }
   ],
   "source": [
    "df_csv.head()"
   ]
  },
  {
   "cell_type": "markdown",
   "metadata": {},
   "source": [
    "## Data Structures"
   ]
  },
  {
   "cell_type": "markdown",
   "metadata": {},
   "source": [
    "### Series"
   ]
  },
  {
   "cell_type": "markdown",
   "metadata": {},
   "source": [
    "<font color = 'blue'> A Series is a one-dimensional array-like object containing an array of data (of any\n",
    "NumPy data type) and an associated array of data labels, called its index. The simplest\n",
    "Series is formed from only an array of data <font color = 'blue'>"
   ]
  },
  {
   "cell_type": "code",
   "execution_count": 7,
   "metadata": {},
   "outputs": [
    {
     "data": {
      "text/plain": [
       "state    [Ohio, Ohio, Ohio, Nevada, Nevada]\n",
       "dtype: object"
      ]
     },
     "execution_count": 7,
     "metadata": {},
     "output_type": "execute_result"
    }
   ],
   "source": [
    "pd.Series({'state': ['Ohio', 'Ohio', 'Ohio', 'Nevada', 'Nevada']})"
   ]
  },
  {
   "cell_type": "markdown",
   "metadata": {},
   "source": [
    "### DataFrame"
   ]
  },
  {
   "cell_type": "markdown",
   "metadata": {},
   "source": [
    "<font color = 'blue'> \n",
    "A DataFrame represents a tabular, spreadsheet-like data structure containing an ordered\n",
    "collection of columns, each of which can be a different value type (numeric,\n",
    "string, boolean, etc.)\n",
    "<font color = 'blue'> "
   ]
  },
  {
   "cell_type": "code",
   "execution_count": null,
   "metadata": {},
   "outputs": [],
   "source": [
    "data = {'state': ['Ohio', 'Ohio', 'Ohio', 'Nevada', 'Nevada'],\n",
    "'year': [2000, 2001, 2002, 2003, 2004],\n",
    "'pop': [1.5, 1.7, 3.6, 2.4, 2.9]}"
   ]
  },
  {
   "cell_type": "code",
   "execution_count": 10,
   "metadata": {},
   "outputs": [],
   "source": [
    "df = pd.DataFrame(data)"
   ]
  },
  {
   "cell_type": "code",
   "execution_count": 11,
   "metadata": {},
   "outputs": [
    {
     "data": {
      "text/html": [
       "<div>\n",
       "<style scoped>\n",
       "    .dataframe tbody tr th:only-of-type {\n",
       "        vertical-align: middle;\n",
       "    }\n",
       "\n",
       "    .dataframe tbody tr th {\n",
       "        vertical-align: top;\n",
       "    }\n",
       "\n",
       "    .dataframe thead th {\n",
       "        text-align: right;\n",
       "    }\n",
       "</style>\n",
       "<table border=\"1\" class=\"dataframe\">\n",
       "  <thead>\n",
       "    <tr style=\"text-align: right;\">\n",
       "      <th></th>\n",
       "      <th>state</th>\n",
       "      <th>year</th>\n",
       "      <th>pop</th>\n",
       "    </tr>\n",
       "  </thead>\n",
       "  <tbody>\n",
       "    <tr>\n",
       "      <td>0</td>\n",
       "      <td>Ohio</td>\n",
       "      <td>2000</td>\n",
       "      <td>1.5</td>\n",
       "    </tr>\n",
       "    <tr>\n",
       "      <td>1</td>\n",
       "      <td>Ohio</td>\n",
       "      <td>2001</td>\n",
       "      <td>1.7</td>\n",
       "    </tr>\n",
       "    <tr>\n",
       "      <td>2</td>\n",
       "      <td>Ohio</td>\n",
       "      <td>2002</td>\n",
       "      <td>3.6</td>\n",
       "    </tr>\n",
       "  </tbody>\n",
       "</table>\n",
       "</div>"
      ],
      "text/plain": [
       "  state  year  pop\n",
       "0  Ohio  2000  1.5\n",
       "1  Ohio  2001  1.7\n",
       "2  Ohio  2002  3.6"
      ]
     },
     "execution_count": 11,
     "metadata": {},
     "output_type": "execute_result"
    }
   ],
   "source": [
    "df.head(3)"
   ]
  },
  {
   "cell_type": "code",
   "execution_count": 12,
   "metadata": {},
   "outputs": [
    {
     "data": {
      "text/html": [
       "<div>\n",
       "<style scoped>\n",
       "    .dataframe tbody tr th:only-of-type {\n",
       "        vertical-align: middle;\n",
       "    }\n",
       "\n",
       "    .dataframe tbody tr th {\n",
       "        vertical-align: top;\n",
       "    }\n",
       "\n",
       "    .dataframe thead th {\n",
       "        text-align: right;\n",
       "    }\n",
       "</style>\n",
       "<table border=\"1\" class=\"dataframe\">\n",
       "  <thead>\n",
       "    <tr style=\"text-align: right;\">\n",
       "      <th></th>\n",
       "      <th>state</th>\n",
       "      <th>year</th>\n",
       "      <th>pop</th>\n",
       "    </tr>\n",
       "  </thead>\n",
       "  <tbody>\n",
       "    <tr>\n",
       "      <td>2</td>\n",
       "      <td>Ohio</td>\n",
       "      <td>2002</td>\n",
       "      <td>3.6</td>\n",
       "    </tr>\n",
       "    <tr>\n",
       "      <td>3</td>\n",
       "      <td>Nevada</td>\n",
       "      <td>2003</td>\n",
       "      <td>2.4</td>\n",
       "    </tr>\n",
       "    <tr>\n",
       "      <td>4</td>\n",
       "      <td>Nevada</td>\n",
       "      <td>2004</td>\n",
       "      <td>2.9</td>\n",
       "    </tr>\n",
       "  </tbody>\n",
       "</table>\n",
       "</div>"
      ],
      "text/plain": [
       "    state  year  pop\n",
       "2    Ohio  2002  3.6\n",
       "3  Nevada  2003  2.4\n",
       "4  Nevada  2004  2.9"
      ]
     },
     "execution_count": 12,
     "metadata": {},
     "output_type": "execute_result"
    }
   ],
   "source": [
    "df.tail(3)"
   ]
  },
  {
   "cell_type": "code",
   "execution_count": 13,
   "metadata": {},
   "outputs": [
    {
     "data": {
      "text/html": [
       "<div>\n",
       "<style scoped>\n",
       "    .dataframe tbody tr th:only-of-type {\n",
       "        vertical-align: middle;\n",
       "    }\n",
       "\n",
       "    .dataframe tbody tr th {\n",
       "        vertical-align: top;\n",
       "    }\n",
       "\n",
       "    .dataframe thead th {\n",
       "        text-align: right;\n",
       "    }\n",
       "</style>\n",
       "<table border=\"1\" class=\"dataframe\">\n",
       "  <thead>\n",
       "    <tr style=\"text-align: right;\">\n",
       "      <th></th>\n",
       "      <th>year</th>\n",
       "      <th>pop</th>\n",
       "    </tr>\n",
       "  </thead>\n",
       "  <tbody>\n",
       "    <tr>\n",
       "      <td>count</td>\n",
       "      <td>5.000000</td>\n",
       "      <td>5.000000</td>\n",
       "    </tr>\n",
       "    <tr>\n",
       "      <td>mean</td>\n",
       "      <td>2002.000000</td>\n",
       "      <td>2.420000</td>\n",
       "    </tr>\n",
       "    <tr>\n",
       "      <td>std</td>\n",
       "      <td>1.581139</td>\n",
       "      <td>0.864292</td>\n",
       "    </tr>\n",
       "    <tr>\n",
       "      <td>min</td>\n",
       "      <td>2000.000000</td>\n",
       "      <td>1.500000</td>\n",
       "    </tr>\n",
       "    <tr>\n",
       "      <td>25%</td>\n",
       "      <td>2001.000000</td>\n",
       "      <td>1.700000</td>\n",
       "    </tr>\n",
       "    <tr>\n",
       "      <td>50%</td>\n",
       "      <td>2002.000000</td>\n",
       "      <td>2.400000</td>\n",
       "    </tr>\n",
       "    <tr>\n",
       "      <td>75%</td>\n",
       "      <td>2003.000000</td>\n",
       "      <td>2.900000</td>\n",
       "    </tr>\n",
       "    <tr>\n",
       "      <td>max</td>\n",
       "      <td>2004.000000</td>\n",
       "      <td>3.600000</td>\n",
       "    </tr>\n",
       "  </tbody>\n",
       "</table>\n",
       "</div>"
      ],
      "text/plain": [
       "              year       pop\n",
       "count     5.000000  5.000000\n",
       "mean   2002.000000  2.420000\n",
       "std       1.581139  0.864292\n",
       "min    2000.000000  1.500000\n",
       "25%    2001.000000  1.700000\n",
       "50%    2002.000000  2.400000\n",
       "75%    2003.000000  2.900000\n",
       "max    2004.000000  3.600000"
      ]
     },
     "execution_count": 13,
     "metadata": {},
     "output_type": "execute_result"
    }
   ],
   "source": [
    "df.describe()"
   ]
  },
  {
   "cell_type": "code",
   "execution_count": 14,
   "metadata": {},
   "outputs": [
    {
     "data": {
      "text/plain": [
       "Ohio      3\n",
       "Nevada    2\n",
       "Name: state, dtype: int64"
      ]
     },
     "execution_count": 14,
     "metadata": {},
     "output_type": "execute_result"
    }
   ],
   "source": [
    "df['state'].value_counts()"
   ]
  },
  {
   "cell_type": "code",
   "execution_count": 24,
   "metadata": {},
   "outputs": [
    {
     "data": {
      "text/plain": [
       "Index(['state_', 'year_', 'pop_'], dtype='object')"
      ]
     },
     "execution_count": 24,
     "metadata": {},
     "output_type": "execute_result"
    }
   ],
   "source": [
    "df.columns"
   ]
  },
  {
   "cell_type": "code",
   "execution_count": 25,
   "metadata": {},
   "outputs": [
    {
     "data": {
      "text/plain": [
       "Index(['a', 'b', 'c', 'd', 'e'], dtype='object')"
      ]
     },
     "execution_count": 25,
     "metadata": {},
     "output_type": "execute_result"
    }
   ],
   "source": [
    "df.index"
   ]
  },
  {
   "cell_type": "markdown",
   "metadata": {},
   "source": [
    "<font color = 'blue'>  Renaming Column <font color = 'blue'> "
   ]
  },
  {
   "cell_type": "code",
   "execution_count": 19,
   "metadata": {},
   "outputs": [
    {
     "data": {
      "text/html": [
       "<div>\n",
       "<style scoped>\n",
       "    .dataframe tbody tr th:only-of-type {\n",
       "        vertical-align: middle;\n",
       "    }\n",
       "\n",
       "    .dataframe tbody tr th {\n",
       "        vertical-align: top;\n",
       "    }\n",
       "\n",
       "    .dataframe thead th {\n",
       "        text-align: right;\n",
       "    }\n",
       "</style>\n",
       "<table border=\"1\" class=\"dataframe\">\n",
       "  <thead>\n",
       "    <tr style=\"text-align: right;\">\n",
       "      <th></th>\n",
       "      <th>state_</th>\n",
       "      <th>year_</th>\n",
       "      <th>pop_</th>\n",
       "    </tr>\n",
       "  </thead>\n",
       "  <tbody>\n",
       "    <tr>\n",
       "      <td>0</td>\n",
       "      <td>Ohio</td>\n",
       "      <td>2000</td>\n",
       "      <td>1.5</td>\n",
       "    </tr>\n",
       "    <tr>\n",
       "      <td>1</td>\n",
       "      <td>Ohio</td>\n",
       "      <td>2001</td>\n",
       "      <td>1.7</td>\n",
       "    </tr>\n",
       "    <tr>\n",
       "      <td>2</td>\n",
       "      <td>Ohio</td>\n",
       "      <td>2002</td>\n",
       "      <td>3.6</td>\n",
       "    </tr>\n",
       "    <tr>\n",
       "      <td>3</td>\n",
       "      <td>Nevada</td>\n",
       "      <td>2003</td>\n",
       "      <td>2.4</td>\n",
       "    </tr>\n",
       "    <tr>\n",
       "      <td>4</td>\n",
       "      <td>Nevada</td>\n",
       "      <td>2004</td>\n",
       "      <td>2.9</td>\n",
       "    </tr>\n",
       "  </tbody>\n",
       "</table>\n",
       "</div>"
      ],
      "text/plain": [
       "   state_  year_  pop_\n",
       "0    Ohio   2000   1.5\n",
       "1    Ohio   2001   1.7\n",
       "2    Ohio   2002   3.6\n",
       "3  Nevada   2003   2.4\n",
       "4  Nevada   2004   2.9"
      ]
     },
     "execution_count": 19,
     "metadata": {},
     "output_type": "execute_result"
    }
   ],
   "source": [
    "df.columns = ['state_', 'year_', 'pop_']\n",
    "df"
   ]
  },
  {
   "cell_type": "code",
   "execution_count": 22,
   "metadata": {},
   "outputs": [
    {
     "data": {
      "text/html": [
       "<div>\n",
       "<style scoped>\n",
       "    .dataframe tbody tr th:only-of-type {\n",
       "        vertical-align: middle;\n",
       "    }\n",
       "\n",
       "    .dataframe tbody tr th {\n",
       "        vertical-align: top;\n",
       "    }\n",
       "\n",
       "    .dataframe thead th {\n",
       "        text-align: right;\n",
       "    }\n",
       "</style>\n",
       "<table border=\"1\" class=\"dataframe\">\n",
       "  <thead>\n",
       "    <tr style=\"text-align: right;\">\n",
       "      <th></th>\n",
       "      <th>state_</th>\n",
       "      <th>year_</th>\n",
       "      <th>pop_</th>\n",
       "    </tr>\n",
       "  </thead>\n",
       "  <tbody>\n",
       "    <tr>\n",
       "      <td>a</td>\n",
       "      <td>Ohio</td>\n",
       "      <td>2000</td>\n",
       "      <td>1.5</td>\n",
       "    </tr>\n",
       "    <tr>\n",
       "      <td>b</td>\n",
       "      <td>Ohio</td>\n",
       "      <td>2001</td>\n",
       "      <td>1.7</td>\n",
       "    </tr>\n",
       "    <tr>\n",
       "      <td>c</td>\n",
       "      <td>Ohio</td>\n",
       "      <td>2002</td>\n",
       "      <td>3.6</td>\n",
       "    </tr>\n",
       "    <tr>\n",
       "      <td>d</td>\n",
       "      <td>Nevada</td>\n",
       "      <td>2003</td>\n",
       "      <td>2.4</td>\n",
       "    </tr>\n",
       "    <tr>\n",
       "      <td>e</td>\n",
       "      <td>Nevada</td>\n",
       "      <td>2004</td>\n",
       "      <td>2.9</td>\n",
       "    </tr>\n",
       "  </tbody>\n",
       "</table>\n",
       "</div>"
      ],
      "text/plain": [
       "   state_  year_  pop_\n",
       "a    Ohio   2000   1.5\n",
       "b    Ohio   2001   1.7\n",
       "c    Ohio   2002   3.6\n",
       "d  Nevada   2003   2.4\n",
       "e  Nevada   2004   2.9"
      ]
     },
     "execution_count": 22,
     "metadata": {},
     "output_type": "execute_result"
    }
   ],
   "source": [
    "df.index = list('abcde')\n",
    "df"
   ]
  },
  {
   "cell_type": "markdown",
   "metadata": {},
   "source": [
    "<font color = 'blue'>  Renaming Index <font color = 'blue'> "
   ]
  },
  {
   "cell_type": "code",
   "execution_count": 31,
   "metadata": {},
   "outputs": [
    {
     "data": {
      "text/html": [
       "<div>\n",
       "<style scoped>\n",
       "    .dataframe tbody tr th:only-of-type {\n",
       "        vertical-align: middle;\n",
       "    }\n",
       "\n",
       "    .dataframe tbody tr th {\n",
       "        vertical-align: top;\n",
       "    }\n",
       "\n",
       "    .dataframe thead th {\n",
       "        text-align: right;\n",
       "    }\n",
       "</style>\n",
       "<table border=\"1\" class=\"dataframe\">\n",
       "  <thead>\n",
       "    <tr style=\"text-align: right;\">\n",
       "      <th></th>\n",
       "      <th>state_</th>\n",
       "      <th>year_</th>\n",
       "      <th>pop_</th>\n",
       "      <th>debt</th>\n",
       "    </tr>\n",
       "  </thead>\n",
       "  <tbody>\n",
       "    <tr>\n",
       "      <td>a</td>\n",
       "      <td>Ohio</td>\n",
       "      <td>2000</td>\n",
       "      <td>1.5</td>\n",
       "      <td>hoha</td>\n",
       "    </tr>\n",
       "    <tr>\n",
       "      <td>b</td>\n",
       "      <td>Ohio</td>\n",
       "      <td>2001</td>\n",
       "      <td>1.7</td>\n",
       "      <td>hoha</td>\n",
       "    </tr>\n",
       "    <tr>\n",
       "      <td>c</td>\n",
       "      <td>Ohio</td>\n",
       "      <td>2002</td>\n",
       "      <td>3.6</td>\n",
       "      <td>hoha</td>\n",
       "    </tr>\n",
       "    <tr>\n",
       "      <td>d</td>\n",
       "      <td>Nevada</td>\n",
       "      <td>2003</td>\n",
       "      <td>2.4</td>\n",
       "      <td>hoha</td>\n",
       "    </tr>\n",
       "    <tr>\n",
       "      <td>e</td>\n",
       "      <td>Nevada</td>\n",
       "      <td>2004</td>\n",
       "      <td>2.9</td>\n",
       "      <td>hoha</td>\n",
       "    </tr>\n",
       "  </tbody>\n",
       "</table>\n",
       "</div>"
      ],
      "text/plain": [
       "   state_  year_  pop_  debt\n",
       "a    Ohio   2000   1.5  hoha\n",
       "b    Ohio   2001   1.7  hoha\n",
       "c    Ohio   2002   3.6  hoha\n",
       "d  Nevada   2003   2.4  hoha\n",
       "e  Nevada   2004   2.9  hoha"
      ]
     },
     "execution_count": 31,
     "metadata": {},
     "output_type": "execute_result"
    }
   ],
   "source": [
    "df['debt'] = 'hoha'\n",
    "df"
   ]
  },
  {
   "cell_type": "code",
   "execution_count": null,
   "metadata": {},
   "outputs": [],
   "source": [
    "## Filtering"
   ]
  },
  {
   "cell_type": "code",
   "execution_count": null,
   "metadata": {},
   "outputs": [],
   "source": []
  },
  {
   "cell_type": "code",
   "execution_count": null,
   "metadata": {},
   "outputs": [],
   "source": [
    "df[(df['year']>2000) & (df['pop']>1.7)]"
   ]
  },
  {
   "cell_type": "markdown",
   "metadata": {},
   "source": [
    "<font color = 'blue'>\n",
    "  When assigning lists or arrays to a column, the value’s length must match the length\n",
    "of the DataFrame\n",
    "<font color = 'blue'>"
   ]
  },
  {
   "cell_type": "code",
   "execution_count": 32,
   "metadata": {},
   "outputs": [],
   "source": [
    "df['range'] = range(5)\n",
    "df"
   ]
  },
  {
   "cell_type": "code",
   "execution_count": null,
   "metadata": {},
   "outputs": [],
   "source": [
    "del df['debt']\n",
    "df"
   ]
  },
  {
   "cell_type": "code",
   "execution_count": 49,
   "metadata": {},
   "outputs": [
    {
     "data": {
      "text/html": [
       "<div>\n",
       "<style scoped>\n",
       "    .dataframe tbody tr th:only-of-type {\n",
       "        vertical-align: middle;\n",
       "    }\n",
       "\n",
       "    .dataframe tbody tr th {\n",
       "        vertical-align: top;\n",
       "    }\n",
       "\n",
       "    .dataframe thead th {\n",
       "        text-align: right;\n",
       "    }\n",
       "</style>\n",
       "<table border=\"1\" class=\"dataframe\">\n",
       "  <thead>\n",
       "    <tr style=\"text-align: right;\">\n",
       "      <th></th>\n",
       "      <th>Name</th>\n",
       "      <th>Fav Fruit</th>\n",
       "      <th>Calories</th>\n",
       "      <th>Hobby</th>\n",
       "      <th>Age</th>\n",
       "    </tr>\n",
       "  </thead>\n",
       "  <tbody>\n",
       "    <tr>\n",
       "      <td>0</td>\n",
       "      <td>Aa</td>\n",
       "      <td>Apple</td>\n",
       "      <td>200</td>\n",
       "      <td>Dance</td>\n",
       "      <td>30</td>\n",
       "    </tr>\n",
       "    <tr>\n",
       "      <td>1</td>\n",
       "      <td>Bb</td>\n",
       "      <td>Grapes</td>\n",
       "      <td>10</td>\n",
       "      <td>Music</td>\n",
       "      <td>32</td>\n",
       "    </tr>\n",
       "    <tr>\n",
       "      <td>2</td>\n",
       "      <td>Cc</td>\n",
       "      <td>Apple</td>\n",
       "      <td>150</td>\n",
       "      <td>Swimming</td>\n",
       "      <td>45</td>\n",
       "    </tr>\n",
       "    <tr>\n",
       "      <td>3</td>\n",
       "      <td>Dd</td>\n",
       "      <td>Grapes</td>\n",
       "      <td>19</td>\n",
       "      <td>Music</td>\n",
       "      <td>27</td>\n",
       "    </tr>\n",
       "    <tr>\n",
       "      <td>4</td>\n",
       "      <td>Ee</td>\n",
       "      <td>Apple</td>\n",
       "      <td>5</td>\n",
       "      <td>Dance</td>\n",
       "      <td>28</td>\n",
       "    </tr>\n",
       "    <tr>\n",
       "      <td>5</td>\n",
       "      <td>Ff</td>\n",
       "      <td>Grapes</td>\n",
       "      <td>17</td>\n",
       "      <td>Music</td>\n",
       "      <td>29</td>\n",
       "    </tr>\n",
       "  </tbody>\n",
       "</table>\n",
       "</div>"
      ],
      "text/plain": [
       "  Name Fav Fruit  Calories     Hobby  Age\n",
       "0   Aa     Apple       200     Dance   30\n",
       "1   Bb    Grapes        10     Music   32\n",
       "2   Cc     Apple       150  Swimming   45\n",
       "3   Dd    Grapes        19     Music   27\n",
       "4   Ee     Apple         5     Dance   28\n",
       "5   Ff    Grapes        17     Music   29"
      ]
     },
     "execution_count": 49,
     "metadata": {},
     "output_type": "execute_result"
    }
   ],
   "source": [
    "df2 = pd.DataFrame({'Name':['Aa', 'Bb', 'Cc', 'Dd','Ee','Ff'],\n",
    "                    'Fav Fruit':['Apple', 'Grapes', 'Apple','Grapes', 'Apple','Grapes'],\n",
    "                    'Calories':[200, 10, 150, 19, 5, 17],\n",
    "                    'Hobby':['Dance', 'Music', 'Swimming', 'Music', 'Dance', 'Music'],\n",
    "                   'Age':[30, 32, 45, 27, 28, 29]})\n",
    "df2"
   ]
  },
  {
   "cell_type": "code",
   "execution_count": 50,
   "metadata": {},
   "outputs": [
    {
     "data": {
      "text/html": [
       "<div>\n",
       "<style scoped>\n",
       "    .dataframe tbody tr th:only-of-type {\n",
       "        vertical-align: middle;\n",
       "    }\n",
       "\n",
       "    .dataframe tbody tr th {\n",
       "        vertical-align: top;\n",
       "    }\n",
       "\n",
       "    .dataframe thead th {\n",
       "        text-align: right;\n",
       "    }\n",
       "</style>\n",
       "<table border=\"1\" class=\"dataframe\">\n",
       "  <thead>\n",
       "    <tr style=\"text-align: right;\">\n",
       "      <th></th>\n",
       "      <th>Name</th>\n",
       "      <th>Fav Fruit</th>\n",
       "      <th>Calories</th>\n",
       "      <th>Hobby</th>\n",
       "      <th>Age</th>\n",
       "    </tr>\n",
       "  </thead>\n",
       "  <tbody>\n",
       "    <tr>\n",
       "      <td>1</td>\n",
       "      <td>Aa</td>\n",
       "      <td>Apple</td>\n",
       "      <td>200</td>\n",
       "      <td>Dance</td>\n",
       "      <td>30</td>\n",
       "    </tr>\n",
       "    <tr>\n",
       "      <td>2</td>\n",
       "      <td>Bb</td>\n",
       "      <td>Grapes</td>\n",
       "      <td>10</td>\n",
       "      <td>Music</td>\n",
       "      <td>32</td>\n",
       "    </tr>\n",
       "    <tr>\n",
       "      <td>3</td>\n",
       "      <td>Cc</td>\n",
       "      <td>Apple</td>\n",
       "      <td>150</td>\n",
       "      <td>Swimming</td>\n",
       "      <td>45</td>\n",
       "    </tr>\n",
       "    <tr>\n",
       "      <td>4</td>\n",
       "      <td>Dd</td>\n",
       "      <td>Grapes</td>\n",
       "      <td>19</td>\n",
       "      <td>Music</td>\n",
       "      <td>27</td>\n",
       "    </tr>\n",
       "    <tr>\n",
       "      <td>5</td>\n",
       "      <td>Ee</td>\n",
       "      <td>Apple</td>\n",
       "      <td>5</td>\n",
       "      <td>Dance</td>\n",
       "      <td>28</td>\n",
       "    </tr>\n",
       "    <tr>\n",
       "      <td>6</td>\n",
       "      <td>Ff</td>\n",
       "      <td>Grapes</td>\n",
       "      <td>17</td>\n",
       "      <td>Music</td>\n",
       "      <td>29</td>\n",
       "    </tr>\n",
       "  </tbody>\n",
       "</table>\n",
       "</div>"
      ],
      "text/plain": [
       "  Name Fav Fruit  Calories     Hobby  Age\n",
       "1   Aa     Apple       200     Dance   30\n",
       "2   Bb    Grapes        10     Music   32\n",
       "3   Cc     Apple       150  Swimming   45\n",
       "4   Dd    Grapes        19     Music   27\n",
       "5   Ee     Apple         5     Dance   28\n",
       "6   Ff    Grapes        17     Music   29"
      ]
     },
     "execution_count": 50,
     "metadata": {},
     "output_type": "execute_result"
    }
   ],
   "source": [
    "df2.index = list('123456')\n",
    "df2"
   ]
  },
  {
   "cell_type": "markdown",
   "metadata": {},
   "source": [
    "### Dropping entries from an axis"
   ]
  },
  {
   "cell_type": "markdown",
   "metadata": {},
   "source": [
    "<font color = 'blue'>\n",
    "Dropping one or more entries from an axis is easy if you have an index array or list\n",
    "without those entries.<br>\n",
    "As that can require a bit of munging and set logic, the drop\n",
    "method will return a new object with the indicated value or values deleted from an axis:\n",
    "<font color = 'blue'>"
   ]
  },
  {
   "cell_type": "code",
   "execution_count": 47,
   "metadata": {},
   "outputs": [
    {
     "data": {
      "text/html": [
       "<div>\n",
       "<style scoped>\n",
       "    .dataframe tbody tr th:only-of-type {\n",
       "        vertical-align: middle;\n",
       "    }\n",
       "\n",
       "    .dataframe tbody tr th {\n",
       "        vertical-align: top;\n",
       "    }\n",
       "\n",
       "    .dataframe thead th {\n",
       "        text-align: right;\n",
       "    }\n",
       "</style>\n",
       "<table border=\"1\" class=\"dataframe\">\n",
       "  <thead>\n",
       "    <tr style=\"text-align: right;\">\n",
       "      <th></th>\n",
       "      <th>Name</th>\n",
       "      <th>Fav Fruit</th>\n",
       "      <th>calories</th>\n",
       "      <th>Hobby</th>\n",
       "      <th>Age</th>\n",
       "    </tr>\n",
       "  </thead>\n",
       "  <tbody>\n",
       "    <tr>\n",
       "      <td>1</td>\n",
       "      <td>Aa</td>\n",
       "      <td>Apple</td>\n",
       "      <td>200</td>\n",
       "      <td>Dance</td>\n",
       "      <td>30</td>\n",
       "    </tr>\n",
       "    <tr>\n",
       "      <td>3</td>\n",
       "      <td>Cc</td>\n",
       "      <td>Apple</td>\n",
       "      <td>150</td>\n",
       "      <td>Swimming</td>\n",
       "      <td>45</td>\n",
       "    </tr>\n",
       "    <tr>\n",
       "      <td>4</td>\n",
       "      <td>Dd</td>\n",
       "      <td>Grapes</td>\n",
       "      <td>19</td>\n",
       "      <td>Music</td>\n",
       "      <td>27</td>\n",
       "    </tr>\n",
       "    <tr>\n",
       "      <td>5</td>\n",
       "      <td>Ee</td>\n",
       "      <td>Apple</td>\n",
       "      <td>5</td>\n",
       "      <td>Dance</td>\n",
       "      <td>28</td>\n",
       "    </tr>\n",
       "    <tr>\n",
       "      <td>6</td>\n",
       "      <td>Ff</td>\n",
       "      <td>Grapes</td>\n",
       "      <td>17</td>\n",
       "      <td>Music</td>\n",
       "      <td>29</td>\n",
       "    </tr>\n",
       "  </tbody>\n",
       "</table>\n",
       "</div>"
      ],
      "text/plain": [
       "  Name Fav Fruit  calories     Hobby  Age\n",
       "1   Aa     Apple       200     Dance   30\n",
       "3   Cc     Apple       150  Swimming   45\n",
       "4   Dd    Grapes        19     Music   27\n",
       "5   Ee     Apple         5     Dance   28\n",
       "6   Ff    Grapes        17     Music   29"
      ]
     },
     "execution_count": 47,
     "metadata": {},
     "output_type": "execute_result"
    }
   ],
   "source": [
    "df2.drop(['2'])"
   ]
  },
  {
   "cell_type": "code",
   "execution_count": 48,
   "metadata": {},
   "outputs": [
    {
     "data": {
      "text/html": [
       "<div>\n",
       "<style scoped>\n",
       "    .dataframe tbody tr th:only-of-type {\n",
       "        vertical-align: middle;\n",
       "    }\n",
       "\n",
       "    .dataframe tbody tr th {\n",
       "        vertical-align: top;\n",
       "    }\n",
       "\n",
       "    .dataframe thead th {\n",
       "        text-align: right;\n",
       "    }\n",
       "</style>\n",
       "<table border=\"1\" class=\"dataframe\">\n",
       "  <thead>\n",
       "    <tr style=\"text-align: right;\">\n",
       "      <th></th>\n",
       "      <th>Name</th>\n",
       "      <th>Fav Fruit</th>\n",
       "      <th>calories</th>\n",
       "      <th>Hobby</th>\n",
       "      <th>Age</th>\n",
       "    </tr>\n",
       "  </thead>\n",
       "  <tbody>\n",
       "    <tr>\n",
       "      <td>1</td>\n",
       "      <td>Aa</td>\n",
       "      <td>Apple</td>\n",
       "      <td>200</td>\n",
       "      <td>Dance</td>\n",
       "      <td>30</td>\n",
       "    </tr>\n",
       "    <tr>\n",
       "      <td>4</td>\n",
       "      <td>Dd</td>\n",
       "      <td>Grapes</td>\n",
       "      <td>19</td>\n",
       "      <td>Music</td>\n",
       "      <td>27</td>\n",
       "    </tr>\n",
       "    <tr>\n",
       "      <td>5</td>\n",
       "      <td>Ee</td>\n",
       "      <td>Apple</td>\n",
       "      <td>5</td>\n",
       "      <td>Dance</td>\n",
       "      <td>28</td>\n",
       "    </tr>\n",
       "    <tr>\n",
       "      <td>6</td>\n",
       "      <td>Ff</td>\n",
       "      <td>Grapes</td>\n",
       "      <td>17</td>\n",
       "      <td>Music</td>\n",
       "      <td>29</td>\n",
       "    </tr>\n",
       "  </tbody>\n",
       "</table>\n",
       "</div>"
      ],
      "text/plain": [
       "  Name Fav Fruit  calories  Hobby  Age\n",
       "1   Aa     Apple       200  Dance   30\n",
       "4   Dd    Grapes        19  Music   27\n",
       "5   Ee     Apple         5  Dance   28\n",
       "6   Ff    Grapes        17  Music   29"
      ]
     },
     "execution_count": 48,
     "metadata": {},
     "output_type": "execute_result"
    }
   ],
   "source": [
    "df2.drop(['2', '3'])"
   ]
  },
  {
   "cell_type": "code",
   "execution_count": 51,
   "metadata": {},
   "outputs": [
    {
     "data": {
      "text/html": [
       "<div>\n",
       "<style scoped>\n",
       "    .dataframe tbody tr th:only-of-type {\n",
       "        vertical-align: middle;\n",
       "    }\n",
       "\n",
       "    .dataframe tbody tr th {\n",
       "        vertical-align: top;\n",
       "    }\n",
       "\n",
       "    .dataframe thead th {\n",
       "        text-align: right;\n",
       "    }\n",
       "</style>\n",
       "<table border=\"1\" class=\"dataframe\">\n",
       "  <thead>\n",
       "    <tr style=\"text-align: right;\">\n",
       "      <th></th>\n",
       "      <th>Name</th>\n",
       "      <th>Calories</th>\n",
       "      <th>Hobby</th>\n",
       "      <th>Age</th>\n",
       "    </tr>\n",
       "  </thead>\n",
       "  <tbody>\n",
       "    <tr>\n",
       "      <td>1</td>\n",
       "      <td>Aa</td>\n",
       "      <td>200</td>\n",
       "      <td>Dance</td>\n",
       "      <td>30</td>\n",
       "    </tr>\n",
       "    <tr>\n",
       "      <td>2</td>\n",
       "      <td>Bb</td>\n",
       "      <td>10</td>\n",
       "      <td>Music</td>\n",
       "      <td>32</td>\n",
       "    </tr>\n",
       "    <tr>\n",
       "      <td>3</td>\n",
       "      <td>Cc</td>\n",
       "      <td>150</td>\n",
       "      <td>Swimming</td>\n",
       "      <td>45</td>\n",
       "    </tr>\n",
       "    <tr>\n",
       "      <td>4</td>\n",
       "      <td>Dd</td>\n",
       "      <td>19</td>\n",
       "      <td>Music</td>\n",
       "      <td>27</td>\n",
       "    </tr>\n",
       "    <tr>\n",
       "      <td>5</td>\n",
       "      <td>Ee</td>\n",
       "      <td>5</td>\n",
       "      <td>Dance</td>\n",
       "      <td>28</td>\n",
       "    </tr>\n",
       "    <tr>\n",
       "      <td>6</td>\n",
       "      <td>Ff</td>\n",
       "      <td>17</td>\n",
       "      <td>Music</td>\n",
       "      <td>29</td>\n",
       "    </tr>\n",
       "  </tbody>\n",
       "</table>\n",
       "</div>"
      ],
      "text/plain": [
       "  Name  Calories     Hobby  Age\n",
       "1   Aa       200     Dance   30\n",
       "2   Bb        10     Music   32\n",
       "3   Cc       150  Swimming   45\n",
       "4   Dd        19     Music   27\n",
       "5   Ee         5     Dance   28\n",
       "6   Ff        17     Music   29"
      ]
     },
     "execution_count": 51,
     "metadata": {},
     "output_type": "execute_result"
    }
   ],
   "source": [
    "df2.drop('Fav Fruit', axis = 1)"
   ]
  },
  {
   "cell_type": "markdown",
   "metadata": {},
   "source": [
    "## Indexing, selection, and filtering"
   ]
  },
  {
   "cell_type": "code",
   "execution_count": 52,
   "metadata": {},
   "outputs": [
    {
     "data": {
      "text/html": [
       "<div>\n",
       "<style scoped>\n",
       "    .dataframe tbody tr th:only-of-type {\n",
       "        vertical-align: middle;\n",
       "    }\n",
       "\n",
       "    .dataframe tbody tr th {\n",
       "        vertical-align: top;\n",
       "    }\n",
       "\n",
       "    .dataframe thead th {\n",
       "        text-align: right;\n",
       "    }\n",
       "</style>\n",
       "<table border=\"1\" class=\"dataframe\">\n",
       "  <thead>\n",
       "    <tr style=\"text-align: right;\">\n",
       "      <th></th>\n",
       "      <th>Name</th>\n",
       "      <th>Calories</th>\n",
       "    </tr>\n",
       "  </thead>\n",
       "  <tbody>\n",
       "    <tr>\n",
       "      <td>1</td>\n",
       "      <td>Aa</td>\n",
       "      <td>200</td>\n",
       "    </tr>\n",
       "    <tr>\n",
       "      <td>2</td>\n",
       "      <td>Bb</td>\n",
       "      <td>10</td>\n",
       "    </tr>\n",
       "    <tr>\n",
       "      <td>3</td>\n",
       "      <td>Cc</td>\n",
       "      <td>150</td>\n",
       "    </tr>\n",
       "    <tr>\n",
       "      <td>4</td>\n",
       "      <td>Dd</td>\n",
       "      <td>19</td>\n",
       "    </tr>\n",
       "    <tr>\n",
       "      <td>5</td>\n",
       "      <td>Ee</td>\n",
       "      <td>5</td>\n",
       "    </tr>\n",
       "    <tr>\n",
       "      <td>6</td>\n",
       "      <td>Ff</td>\n",
       "      <td>17</td>\n",
       "    </tr>\n",
       "  </tbody>\n",
       "</table>\n",
       "</div>"
      ],
      "text/plain": [
       "  Name  Calories\n",
       "1   Aa       200\n",
       "2   Bb        10\n",
       "3   Cc       150\n",
       "4   Dd        19\n",
       "5   Ee         5\n",
       "6   Ff        17"
      ]
     },
     "execution_count": 52,
     "metadata": {},
     "output_type": "execute_result"
    }
   ],
   "source": [
    "df2[['Name','Calories']]"
   ]
  },
  {
   "cell_type": "code",
   "execution_count": 54,
   "metadata": {},
   "outputs": [
    {
     "data": {
      "text/plain": [
       "2    Bb\n",
       "3    Cc\n",
       "4    Dd\n",
       "5    Ee\n",
       "6    Ff\n",
       "Name: Name, dtype: object"
      ]
     },
     "execution_count": 54,
     "metadata": {},
     "output_type": "execute_result"
    }
   ],
   "source": [
    "df2.loc['2':'6','Name']"
   ]
  },
  {
   "cell_type": "code",
   "execution_count": 55,
   "metadata": {},
   "outputs": [
    {
     "data": {
      "text/html": [
       "<div>\n",
       "<style scoped>\n",
       "    .dataframe tbody tr th:only-of-type {\n",
       "        vertical-align: middle;\n",
       "    }\n",
       "\n",
       "    .dataframe tbody tr th {\n",
       "        vertical-align: top;\n",
       "    }\n",
       "\n",
       "    .dataframe thead th {\n",
       "        text-align: right;\n",
       "    }\n",
       "</style>\n",
       "<table border=\"1\" class=\"dataframe\">\n",
       "  <thead>\n",
       "    <tr style=\"text-align: right;\">\n",
       "      <th></th>\n",
       "      <th>Fav Fruit</th>\n",
       "      <th>Calories</th>\n",
       "    </tr>\n",
       "  </thead>\n",
       "  <tbody>\n",
       "    <tr>\n",
       "      <td>2</td>\n",
       "      <td>Grapes</td>\n",
       "      <td>10</td>\n",
       "    </tr>\n",
       "    <tr>\n",
       "      <td>3</td>\n",
       "      <td>Apple</td>\n",
       "      <td>150</td>\n",
       "    </tr>\n",
       "  </tbody>\n",
       "</table>\n",
       "</div>"
      ],
      "text/plain": [
       "  Fav Fruit  Calories\n",
       "2    Grapes        10\n",
       "3     Apple       150"
      ]
     },
     "execution_count": 55,
     "metadata": {},
     "output_type": "execute_result"
    }
   ],
   "source": [
    "df2.iloc[1:3, 1:3]"
   ]
  },
  {
   "cell_type": "code",
   "execution_count": 57,
   "metadata": {},
   "outputs": [
    {
     "data": {
      "text/html": [
       "<div>\n",
       "<style scoped>\n",
       "    .dataframe tbody tr th:only-of-type {\n",
       "        vertical-align: middle;\n",
       "    }\n",
       "\n",
       "    .dataframe tbody tr th {\n",
       "        vertical-align: top;\n",
       "    }\n",
       "\n",
       "    .dataframe thead th {\n",
       "        text-align: right;\n",
       "    }\n",
       "</style>\n",
       "<table border=\"1\" class=\"dataframe\">\n",
       "  <thead>\n",
       "    <tr style=\"text-align: right;\">\n",
       "      <th></th>\n",
       "      <th>Name</th>\n",
       "      <th>Fav Fruit</th>\n",
       "      <th>Calories</th>\n",
       "      <th>Hobby</th>\n",
       "      <th>Age</th>\n",
       "    </tr>\n",
       "  </thead>\n",
       "  <tbody>\n",
       "    <tr>\n",
       "      <td>1</td>\n",
       "      <td>Aa</td>\n",
       "      <td>Apple</td>\n",
       "      <td>200</td>\n",
       "      <td>Dance</td>\n",
       "      <td>30</td>\n",
       "    </tr>\n",
       "    <tr>\n",
       "      <td>3</td>\n",
       "      <td>Cc</td>\n",
       "      <td>Apple</td>\n",
       "      <td>150</td>\n",
       "      <td>Swimming</td>\n",
       "      <td>45</td>\n",
       "    </tr>\n",
       "    <tr>\n",
       "      <td>4</td>\n",
       "      <td>Dd</td>\n",
       "      <td>Grapes</td>\n",
       "      <td>19</td>\n",
       "      <td>Music</td>\n",
       "      <td>27</td>\n",
       "    </tr>\n",
       "    <tr>\n",
       "      <td>6</td>\n",
       "      <td>Ff</td>\n",
       "      <td>Grapes</td>\n",
       "      <td>17</td>\n",
       "      <td>Music</td>\n",
       "      <td>29</td>\n",
       "    </tr>\n",
       "  </tbody>\n",
       "</table>\n",
       "</div>"
      ],
      "text/plain": [
       "  Name Fav Fruit  Calories     Hobby  Age\n",
       "1   Aa     Apple       200     Dance   30\n",
       "3   Cc     Apple       150  Swimming   45\n",
       "4   Dd    Grapes        19     Music   27\n",
       "6   Ff    Grapes        17     Music   29"
      ]
     },
     "execution_count": 57,
     "metadata": {},
     "output_type": "execute_result"
    }
   ],
   "source": [
    "df2[df2['Calories'] > 15]"
   ]
  },
  {
   "cell_type": "code",
   "execution_count": 58,
   "metadata": {},
   "outputs": [
    {
     "data": {
      "text/plain": [
       "1     True\n",
       "2    False\n",
       "3     True\n",
       "4     True\n",
       "5    False\n",
       "6     True\n",
       "Name: Calories, dtype: bool"
      ]
     },
     "execution_count": 58,
     "metadata": {},
     "output_type": "execute_result"
    }
   ],
   "source": [
    "df2['Calories'] > 15"
   ]
  },
  {
   "cell_type": "markdown",
   "metadata": {},
   "source": [
    "#### Selection with Indexing"
   ]
  },
  {
   "cell_type": "code",
   "execution_count": null,
   "metadata": {},
   "outputs": [],
   "source": [
    "df2[1:3]"
   ]
  },
  {
   "cell_type": "markdown",
   "metadata": {},
   "source": [
    "## Function application and mapping"
   ]
  },
  {
   "cell_type": "markdown",
   "metadata": {},
   "source": [
    "<font color = 'blue'>\n",
    "Another frequent operation is applying a function on 1D arrays to each column or row.\n",
    "DataFrame’s apply method does exactly this\n",
    "<font color = 'blue'>"
   ]
  },
  {
   "cell_type": "code",
   "execution_count": 61,
   "metadata": {},
   "outputs": [
    {
     "data": {
      "text/plain": [
       "Calories    195\n",
       "Age          18\n",
       "dtype: int64"
      ]
     },
     "execution_count": 61,
     "metadata": {},
     "output_type": "execute_result"
    }
   ],
   "source": [
    "df2[['Calories', 'Age']].apply(lambda x: x.max() - x.min(), axis=0)"
   ]
  },
  {
   "cell_type": "code",
   "execution_count": 62,
   "metadata": {},
   "outputs": [
    {
     "data": {
      "text/plain": [
       "1    170\n",
       "2     22\n",
       "3    105\n",
       "4      8\n",
       "5     23\n",
       "6     12\n",
       "dtype: int64"
      ]
     },
     "execution_count": 62,
     "metadata": {},
     "output_type": "execute_result"
    }
   ],
   "source": [
    "df2[['Calories', 'Age']].apply(lambda x: x.max() - x.min(), axis=1)"
   ]
  },
  {
   "cell_type": "code",
   "execution_count": 63,
   "metadata": {},
   "outputs": [
    {
     "data": {
      "text/plain": [
       "1    200\n",
       "2     10\n",
       "3    150\n",
       "4     19\n",
       "5      5\n",
       "6     17\n",
       "Name: Calories, dtype: int64"
      ]
     },
     "execution_count": 63,
     "metadata": {},
     "output_type": "execute_result"
    }
   ],
   "source": [
    "df2['Calories']"
   ]
  },
  {
   "cell_type": "code",
   "execution_count": 64,
   "metadata": {},
   "outputs": [
    {
     "data": {
      "text/plain": [
       "1    400\n",
       "2     20\n",
       "3    300\n",
       "4     38\n",
       "5     10\n",
       "6     34\n",
       "Name: Calories, dtype: int64"
      ]
     },
     "execution_count": 64,
     "metadata": {},
     "output_type": "execute_result"
    }
   ],
   "source": [
    "df2['Calories'].apply(lambda x: x*2)"
   ]
  },
  {
   "cell_type": "code",
   "execution_count": 65,
   "metadata": {},
   "outputs": [
    {
     "data": {
      "text/html": [
       "<div>\n",
       "<style scoped>\n",
       "    .dataframe tbody tr th:only-of-type {\n",
       "        vertical-align: middle;\n",
       "    }\n",
       "\n",
       "    .dataframe tbody tr th {\n",
       "        vertical-align: top;\n",
       "    }\n",
       "\n",
       "    .dataframe thead th {\n",
       "        text-align: right;\n",
       "    }\n",
       "</style>\n",
       "<table border=\"1\" class=\"dataframe\">\n",
       "  <thead>\n",
       "    <tr style=\"text-align: right;\">\n",
       "      <th></th>\n",
       "      <th>Name</th>\n",
       "      <th>Fav Fruit</th>\n",
       "      <th>Calories</th>\n",
       "      <th>Hobby</th>\n",
       "      <th>Age</th>\n",
       "    </tr>\n",
       "  </thead>\n",
       "  <tbody>\n",
       "    <tr>\n",
       "      <td>1</td>\n",
       "      <td>Aa</td>\n",
       "      <td>Apple</td>\n",
       "      <td>200</td>\n",
       "      <td>Dance</td>\n",
       "      <td>30</td>\n",
       "    </tr>\n",
       "    <tr>\n",
       "      <td>2</td>\n",
       "      <td>Bb</td>\n",
       "      <td>Grapes</td>\n",
       "      <td>10</td>\n",
       "      <td>Music</td>\n",
       "      <td>32</td>\n",
       "    </tr>\n",
       "    <tr>\n",
       "      <td>3</td>\n",
       "      <td>Cc</td>\n",
       "      <td>Apple</td>\n",
       "      <td>150</td>\n",
       "      <td>Swimming</td>\n",
       "      <td>45</td>\n",
       "    </tr>\n",
       "    <tr>\n",
       "      <td>4</td>\n",
       "      <td>Dd</td>\n",
       "      <td>Grapes</td>\n",
       "      <td>19</td>\n",
       "      <td>Music</td>\n",
       "      <td>27</td>\n",
       "    </tr>\n",
       "    <tr>\n",
       "      <td>5</td>\n",
       "      <td>Ee</td>\n",
       "      <td>Apple</td>\n",
       "      <td>5</td>\n",
       "      <td>Dance</td>\n",
       "      <td>28</td>\n",
       "    </tr>\n",
       "    <tr>\n",
       "      <td>6</td>\n",
       "      <td>Ff</td>\n",
       "      <td>Grapes</td>\n",
       "      <td>17</td>\n",
       "      <td>Music</td>\n",
       "      <td>29</td>\n",
       "    </tr>\n",
       "  </tbody>\n",
       "</table>\n",
       "</div>"
      ],
      "text/plain": [
       "  Name Fav Fruit  Calories     Hobby  Age\n",
       "1   Aa     Apple       200     Dance   30\n",
       "2   Bb    Grapes        10     Music   32\n",
       "3   Cc     Apple       150  Swimming   45\n",
       "4   Dd    Grapes        19     Music   27\n",
       "5   Ee     Apple         5     Dance   28\n",
       "6   Ff    Grapes        17     Music   29"
      ]
     },
     "execution_count": 65,
     "metadata": {},
     "output_type": "execute_result"
    }
   ],
   "source": [
    "df2"
   ]
  },
  {
   "cell_type": "code",
   "execution_count": 66,
   "metadata": {},
   "outputs": [],
   "source": [
    "def salary_cal(s):\n",
    "    if s <= 10:\n",
    "        s = s + 10\n",
    "        \n",
    "    return s"
   ]
  },
  {
   "cell_type": "code",
   "execution_count": 67,
   "metadata": {},
   "outputs": [
    {
     "data": {
      "text/plain": [
       "1    200\n",
       "2     20\n",
       "3    150\n",
       "4     19\n",
       "5     15\n",
       "6     17\n",
       "dtype: int64"
      ]
     },
     "execution_count": 67,
     "metadata": {},
     "output_type": "execute_result"
    }
   ],
   "source": [
    "df2.apply(lambda x: salary_cal(x['Calories']), axis =1)"
   ]
  },
  {
   "cell_type": "markdown",
   "metadata": {},
   "source": [
    "<font color = 'blue'>\n",
    "Say, If Calories is less than 5, \n",
    "I want to add 5 to the total calories but if calories is greater than 19 and age is < 35 I want to subtract 20% of calories from total calories<font color = 'blue'>"
   ]
  },
  {
   "cell_type": "code",
   "execution_count": 69,
   "metadata": {},
   "outputs": [],
   "source": [
    "def calorie_cal(sal, age):\n",
    "    if sal <= 5:\n",
    "        sal = sal + 10\n",
    "        \n",
    "    if sal >=19 and age < 35:\n",
    "        sal = sal - 0.2*sal\n",
    "\n",
    "    return sal\n",
    "    "
   ]
  },
  {
   "cell_type": "code",
   "execution_count": 71,
   "metadata": {},
   "outputs": [
    {
     "data": {
      "text/plain": [
       "1    160.0\n",
       "2     10.0\n",
       "3    150.0\n",
       "4     15.2\n",
       "5     15.0\n",
       "6     17.0\n",
       "dtype: float64"
      ]
     },
     "execution_count": 71,
     "metadata": {},
     "output_type": "execute_result"
    }
   ],
   "source": [
    "df2.apply(lambda x: calorie_cal(x['Calories'], x['Age']), axis =1)"
   ]
  },
  {
   "cell_type": "code",
   "execution_count": 73,
   "metadata": {},
   "outputs": [],
   "source": [
    "df2['Calories_updated'] = df2.apply(lambda x: calorie_cal(x['Calories'], x['Age']), axis =1)"
   ]
  },
  {
   "cell_type": "code",
   "execution_count": 74,
   "metadata": {},
   "outputs": [
    {
     "data": {
      "text/html": [
       "<div>\n",
       "<style scoped>\n",
       "    .dataframe tbody tr th:only-of-type {\n",
       "        vertical-align: middle;\n",
       "    }\n",
       "\n",
       "    .dataframe tbody tr th {\n",
       "        vertical-align: top;\n",
       "    }\n",
       "\n",
       "    .dataframe thead th {\n",
       "        text-align: right;\n",
       "    }\n",
       "</style>\n",
       "<table border=\"1\" class=\"dataframe\">\n",
       "  <thead>\n",
       "    <tr style=\"text-align: right;\">\n",
       "      <th></th>\n",
       "      <th>Name</th>\n",
       "      <th>Fav Fruit</th>\n",
       "      <th>Calories</th>\n",
       "      <th>Hobby</th>\n",
       "      <th>Age</th>\n",
       "      <th>Calories_updated</th>\n",
       "    </tr>\n",
       "  </thead>\n",
       "  <tbody>\n",
       "    <tr>\n",
       "      <td>1</td>\n",
       "      <td>Aa</td>\n",
       "      <td>Apple</td>\n",
       "      <td>200</td>\n",
       "      <td>Dance</td>\n",
       "      <td>30</td>\n",
       "      <td>160.0</td>\n",
       "    </tr>\n",
       "    <tr>\n",
       "      <td>2</td>\n",
       "      <td>Bb</td>\n",
       "      <td>Grapes</td>\n",
       "      <td>10</td>\n",
       "      <td>Music</td>\n",
       "      <td>32</td>\n",
       "      <td>10.0</td>\n",
       "    </tr>\n",
       "    <tr>\n",
       "      <td>3</td>\n",
       "      <td>Cc</td>\n",
       "      <td>Apple</td>\n",
       "      <td>150</td>\n",
       "      <td>Swimming</td>\n",
       "      <td>45</td>\n",
       "      <td>150.0</td>\n",
       "    </tr>\n",
       "    <tr>\n",
       "      <td>4</td>\n",
       "      <td>Dd</td>\n",
       "      <td>Grapes</td>\n",
       "      <td>19</td>\n",
       "      <td>Music</td>\n",
       "      <td>27</td>\n",
       "      <td>15.2</td>\n",
       "    </tr>\n",
       "    <tr>\n",
       "      <td>5</td>\n",
       "      <td>Ee</td>\n",
       "      <td>Apple</td>\n",
       "      <td>5</td>\n",
       "      <td>Dance</td>\n",
       "      <td>28</td>\n",
       "      <td>15.0</td>\n",
       "    </tr>\n",
       "    <tr>\n",
       "      <td>6</td>\n",
       "      <td>Ff</td>\n",
       "      <td>Grapes</td>\n",
       "      <td>17</td>\n",
       "      <td>Music</td>\n",
       "      <td>29</td>\n",
       "      <td>17.0</td>\n",
       "    </tr>\n",
       "  </tbody>\n",
       "</table>\n",
       "</div>"
      ],
      "text/plain": [
       "  Name Fav Fruit  Calories     Hobby  Age  Calories_updated\n",
       "1   Aa     Apple       200     Dance   30             160.0\n",
       "2   Bb    Grapes        10     Music   32              10.0\n",
       "3   Cc     Apple       150  Swimming   45             150.0\n",
       "4   Dd    Grapes        19     Music   27              15.2\n",
       "5   Ee     Apple         5     Dance   28              15.0\n",
       "6   Ff    Grapes        17     Music   29              17.0"
      ]
     },
     "execution_count": 74,
     "metadata": {},
     "output_type": "execute_result"
    }
   ],
   "source": [
    "df2"
   ]
  },
  {
   "cell_type": "code",
   "execution_count": 196,
   "metadata": {},
   "outputs": [
    {
     "data": {
      "text/plain": [
       "Name\n",
       "Kevin     160\n",
       "Naipal     10\n",
       "Steve     150\n",
       "Hitesh     15\n",
       "Mitash     15\n",
       "Prachi     17\n",
       "Name: Salary_updated, dtype: int32"
      ]
     },
     "execution_count": 196,
     "metadata": {},
     "output_type": "execute_result"
    }
   ],
   "source": [
    "df2['Salary_updated'].astype('int')"
   ]
  },
  {
   "cell_type": "code",
   "execution_count": 75,
   "metadata": {},
   "outputs": [
    {
     "data": {
      "text/html": [
       "<div>\n",
       "<style scoped>\n",
       "    .dataframe tbody tr th:only-of-type {\n",
       "        vertical-align: middle;\n",
       "    }\n",
       "\n",
       "    .dataframe tbody tr th {\n",
       "        vertical-align: top;\n",
       "    }\n",
       "\n",
       "    .dataframe thead th {\n",
       "        text-align: right;\n",
       "    }\n",
       "</style>\n",
       "<table border=\"1\" class=\"dataframe\">\n",
       "  <thead>\n",
       "    <tr style=\"text-align: right;\">\n",
       "      <th></th>\n",
       "      <th>index</th>\n",
       "      <th>Name</th>\n",
       "      <th>Fav Fruit</th>\n",
       "      <th>Calories</th>\n",
       "      <th>Hobby</th>\n",
       "      <th>Age</th>\n",
       "      <th>Calories_updated</th>\n",
       "    </tr>\n",
       "  </thead>\n",
       "  <tbody>\n",
       "    <tr>\n",
       "      <td>0</td>\n",
       "      <td>1</td>\n",
       "      <td>Aa</td>\n",
       "      <td>Apple</td>\n",
       "      <td>200</td>\n",
       "      <td>Dance</td>\n",
       "      <td>30</td>\n",
       "      <td>160.0</td>\n",
       "    </tr>\n",
       "    <tr>\n",
       "      <td>1</td>\n",
       "      <td>2</td>\n",
       "      <td>Bb</td>\n",
       "      <td>Grapes</td>\n",
       "      <td>10</td>\n",
       "      <td>Music</td>\n",
       "      <td>32</td>\n",
       "      <td>10.0</td>\n",
       "    </tr>\n",
       "    <tr>\n",
       "      <td>2</td>\n",
       "      <td>3</td>\n",
       "      <td>Cc</td>\n",
       "      <td>Apple</td>\n",
       "      <td>150</td>\n",
       "      <td>Swimming</td>\n",
       "      <td>45</td>\n",
       "      <td>150.0</td>\n",
       "    </tr>\n",
       "    <tr>\n",
       "      <td>3</td>\n",
       "      <td>4</td>\n",
       "      <td>Dd</td>\n",
       "      <td>Grapes</td>\n",
       "      <td>19</td>\n",
       "      <td>Music</td>\n",
       "      <td>27</td>\n",
       "      <td>15.2</td>\n",
       "    </tr>\n",
       "    <tr>\n",
       "      <td>4</td>\n",
       "      <td>5</td>\n",
       "      <td>Ee</td>\n",
       "      <td>Apple</td>\n",
       "      <td>5</td>\n",
       "      <td>Dance</td>\n",
       "      <td>28</td>\n",
       "      <td>15.0</td>\n",
       "    </tr>\n",
       "    <tr>\n",
       "      <td>5</td>\n",
       "      <td>6</td>\n",
       "      <td>Ff</td>\n",
       "      <td>Grapes</td>\n",
       "      <td>17</td>\n",
       "      <td>Music</td>\n",
       "      <td>29</td>\n",
       "      <td>17.0</td>\n",
       "    </tr>\n",
       "  </tbody>\n",
       "</table>\n",
       "</div>"
      ],
      "text/plain": [
       "  index Name Fav Fruit  Calories     Hobby  Age  Calories_updated\n",
       "0     1   Aa     Apple       200     Dance   30             160.0\n",
       "1     2   Bb    Grapes        10     Music   32              10.0\n",
       "2     3   Cc     Apple       150  Swimming   45             150.0\n",
       "3     4   Dd    Grapes        19     Music   27              15.2\n",
       "4     5   Ee     Apple         5     Dance   28              15.0\n",
       "5     6   Ff    Grapes        17     Music   29              17.0"
      ]
     },
     "execution_count": 75,
     "metadata": {},
     "output_type": "execute_result"
    }
   ],
   "source": [
    "df2 = df2.reset_index()\n",
    "df2"
   ]
  },
  {
   "cell_type": "code",
   "execution_count": 76,
   "metadata": {},
   "outputs": [
    {
     "data": {
      "text/plain": [
       "0     apple\n",
       "1    grapes\n",
       "2     apple\n",
       "3    grapes\n",
       "4     apple\n",
       "5    grapes\n",
       "dtype: object"
      ]
     },
     "execution_count": 76,
     "metadata": {},
     "output_type": "execute_result"
    }
   ],
   "source": [
    "df2.apply(lambda x: x['Fav Fruit'].lower(), axis =1)"
   ]
  },
  {
   "cell_type": "code",
   "execution_count": 82,
   "metadata": {},
   "outputs": [],
   "source": [
    "file_name = \"C:/Users/singhn25/Downloads/Python_Sessions/au-towns-sample.csv\"\n",
    "df_csv = pd.read_csv(file_name)"
   ]
  },
  {
   "cell_type": "code",
   "execution_count": 83,
   "metadata": {},
   "outputs": [
    {
     "data": {
      "text/html": [
       "<div>\n",
       "<style scoped>\n",
       "    .dataframe tbody tr th:only-of-type {\n",
       "        vertical-align: middle;\n",
       "    }\n",
       "\n",
       "    .dataframe tbody tr th {\n",
       "        vertical-align: top;\n",
       "    }\n",
       "\n",
       "    .dataframe thead th {\n",
       "        text-align: right;\n",
       "    }\n",
       "</style>\n",
       "<table border=\"1\" class=\"dataframe\">\n",
       "  <thead>\n",
       "    <tr style=\"text-align: right;\">\n",
       "      <th></th>\n",
       "      <th>id</th>\n",
       "      <th>town</th>\n",
       "      <th>urban_area</th>\n",
       "      <th>state_code</th>\n",
       "      <th>state</th>\n",
       "      <th>postcode</th>\n",
       "      <th>type</th>\n",
       "      <th>latitude</th>\n",
       "      <th>longitude</th>\n",
       "      <th>elevation</th>\n",
       "      <th>population</th>\n",
       "      <th>median_income</th>\n",
       "      <th>area_sq_km</th>\n",
       "      <th>local_government_area</th>\n",
       "      <th>region</th>\n",
       "      <th>time_zone</th>\n",
       "    </tr>\n",
       "  </thead>\n",
       "  <tbody>\n",
       "    <tr>\n",
       "      <td>0</td>\n",
       "      <td>1</td>\n",
       "      <td>Aarons Pass</td>\n",
       "      <td>NaN</td>\n",
       "      <td>NSW</td>\n",
       "      <td>New South Wales</td>\n",
       "      <td>2850</td>\n",
       "      <td>Rural locality</td>\n",
       "      <td>-32.86328</td>\n",
       "      <td>149.80375</td>\n",
       "      <td>804</td>\n",
       "      <td>22</td>\n",
       "      <td>29900</td>\n",
       "      <td>82.764</td>\n",
       "      <td>Mid-Western Regional (Area)</td>\n",
       "      <td>Central West</td>\n",
       "      <td>Australia/Sydney</td>\n",
       "    </tr>\n",
       "    <tr>\n",
       "      <td>1</td>\n",
       "      <td>2</td>\n",
       "      <td>Abba River</td>\n",
       "      <td>NaN</td>\n",
       "      <td>WA</td>\n",
       "      <td>Western Australia</td>\n",
       "      <td>6280</td>\n",
       "      <td>Rural locality</td>\n",
       "      <td>-33.68488</td>\n",
       "      <td>115.46334</td>\n",
       "      <td>23</td>\n",
       "      <td>68</td>\n",
       "      <td>35100</td>\n",
       "      <td>28.516</td>\n",
       "      <td>Busselton (City)</td>\n",
       "      <td>Bunbury</td>\n",
       "      <td>Australia/Perth</td>\n",
       "    </tr>\n",
       "    <tr>\n",
       "      <td>2</td>\n",
       "      <td>3</td>\n",
       "      <td>Abbey</td>\n",
       "      <td>Busselton</td>\n",
       "      <td>WA</td>\n",
       "      <td>Western Australia</td>\n",
       "      <td>6280</td>\n",
       "      <td>Suburb</td>\n",
       "      <td>-33.66077</td>\n",
       "      <td>115.25863</td>\n",
       "      <td>7</td>\n",
       "      <td>1275</td>\n",
       "      <td>34580</td>\n",
       "      <td>2.644</td>\n",
       "      <td>Busselton (City)</td>\n",
       "      <td>Bunbury</td>\n",
       "      <td>Australia/Perth</td>\n",
       "    </tr>\n",
       "    <tr>\n",
       "      <td>3</td>\n",
       "      <td>4</td>\n",
       "      <td>Abbeyard</td>\n",
       "      <td>NaN</td>\n",
       "      <td>VIC</td>\n",
       "      <td>Victoria</td>\n",
       "      <td>3737</td>\n",
       "      <td>Rural locality</td>\n",
       "      <td>-36.96978</td>\n",
       "      <td>146.75244</td>\n",
       "      <td>415</td>\n",
       "      <td>0</td>\n",
       "      <td>0</td>\n",
       "      <td>327.501</td>\n",
       "      <td>Alpine (Shire)</td>\n",
       "      <td>Hume</td>\n",
       "      <td>Australia/Melbourne</td>\n",
       "    </tr>\n",
       "    <tr>\n",
       "      <td>4</td>\n",
       "      <td>5</td>\n",
       "      <td>Abbeywood</td>\n",
       "      <td>NaN</td>\n",
       "      <td>QLD</td>\n",
       "      <td>Queensland</td>\n",
       "      <td>4613</td>\n",
       "      <td>Rural locality</td>\n",
       "      <td>-26.10688</td>\n",
       "      <td>151.62880</td>\n",
       "      <td>429</td>\n",
       "      <td>23</td>\n",
       "      <td>16484</td>\n",
       "      <td>35.035</td>\n",
       "      <td>South Burnett (Regional Council)</td>\n",
       "      <td>Wide Bay</td>\n",
       "      <td>Australia/Brisbane</td>\n",
       "    </tr>\n",
       "  </tbody>\n",
       "</table>\n",
       "</div>"
      ],
      "text/plain": [
       "   id         town urban_area state_code              state  postcode  \\\n",
       "0   1  Aarons Pass        NaN        NSW    New South Wales      2850   \n",
       "1   2   Abba River        NaN         WA  Western Australia      6280   \n",
       "2   3        Abbey  Busselton         WA  Western Australia      6280   \n",
       "3   4     Abbeyard        NaN        VIC           Victoria      3737   \n",
       "4   5    Abbeywood        NaN        QLD         Queensland      4613   \n",
       "\n",
       "             type  latitude  longitude  elevation  population  median_income  \\\n",
       "0  Rural locality -32.86328  149.80375        804          22          29900   \n",
       "1  Rural locality -33.68488  115.46334         23          68          35100   \n",
       "2          Suburb -33.66077  115.25863          7        1275          34580   \n",
       "3  Rural locality -36.96978  146.75244        415           0              0   \n",
       "4  Rural locality -26.10688  151.62880        429          23          16484   \n",
       "\n",
       "   area_sq_km             local_government_area        region  \\\n",
       "0      82.764       Mid-Western Regional (Area)  Central West   \n",
       "1      28.516                  Busselton (City)       Bunbury   \n",
       "2       2.644                  Busselton (City)       Bunbury   \n",
       "3     327.501                    Alpine (Shire)          Hume   \n",
       "4      35.035  South Burnett (Regional Council)      Wide Bay   \n",
       "\n",
       "             time_zone  \n",
       "0     Australia/Sydney  \n",
       "1      Australia/Perth  \n",
       "2      Australia/Perth  \n",
       "3  Australia/Melbourne  \n",
       "4   Australia/Brisbane  "
      ]
     },
     "execution_count": 83,
     "metadata": {},
     "output_type": "execute_result"
    }
   ],
   "source": [
    "df_csv.head()"
   ]
  },
  {
   "cell_type": "markdown",
   "metadata": {},
   "source": [
    "## NULL values - find and Impute"
   ]
  },
  {
   "cell_type": "code",
   "execution_count": 23,
   "metadata": {},
   "outputs": [
    {
     "data": {
      "text/plain": [
       "id                         0\n",
       "town                       0\n",
       "urban_area               335\n",
       "state_code                 0\n",
       "state                      0\n",
       "postcode                   0\n",
       "type                       0\n",
       "latitude                   0\n",
       "longitude                  0\n",
       "elevation                  0\n",
       "population                 0\n",
       "median_income              0\n",
       "area_sq_km                 0\n",
       "local_government_area      0\n",
       "region                     0\n",
       "time_zone                  0\n",
       "dtype: int64"
      ]
     },
     "execution_count": 23,
     "metadata": {},
     "output_type": "execute_result"
    }
   ],
   "source": [
    "df_csv.isna().sum()"
   ]
  },
  {
   "cell_type": "code",
   "execution_count": 27,
   "metadata": {},
   "outputs": [],
   "source": [
    "df_csv['urban_area_updatd'] = df_csv['urban_area'].fillna('Busselton')"
   ]
  },
  {
   "cell_type": "code",
   "execution_count": 28,
   "metadata": {},
   "outputs": [
    {
     "data": {
      "text/plain": [
       "id                         0\n",
       "town                       0\n",
       "urban_area               335\n",
       "state_code                 0\n",
       "state                      0\n",
       "postcode                   0\n",
       "type                       0\n",
       "latitude                   0\n",
       "longitude                  0\n",
       "elevation                  0\n",
       "population                 0\n",
       "median_income              0\n",
       "area_sq_km                 0\n",
       "local_government_area      0\n",
       "region                     0\n",
       "time_zone                  0\n",
       "urban_area_updatd          0\n",
       "dtype: int64"
      ]
     },
     "execution_count": 28,
     "metadata": {},
     "output_type": "execute_result"
    }
   ],
   "source": [
    "df_csv.isna().sum()"
   ]
  },
  {
   "cell_type": "markdown",
   "metadata": {},
   "source": [
    "## Home work"
   ]
  },
  {
   "cell_type": "markdown",
   "metadata": {},
   "source": [
    "<font color = 'blue'>\n",
    "1. Download open source titanic dataset from: <br>\n",
    "https://github.com/awesomedata/awesome-public-datasets/blob/master/Datasets/titanic.csv.zip\n",
    "\n",
    "2. Read it using pandas\n",
    "    - how to unzip file using python?\n",
    "    - how to read from web in python?\n",
    "3. Find descriptive statistaics- mean, median, std deviation, 25 percentile values\n",
    "    - calculate 10 percentile values for each numerical column\n",
    "    - does mean/median calculation takes NULLs into account?\n",
    "4. Impute numerical feature (ie, Age column) NULLs with:\n",
    "    - mean\n",
    "    - median\n",
    "5. Impute categorical feature (ie, cabin) NULLs with:\n",
    "     - highest frequency category\n",
    "6. Rename column- 'Name' as 'First Name'\n",
    "     - Create a new column- 'Last Name'\n",
    "     - Split the 'First Name' column into 2 (separated with comma) and put last name of passengers into column - 'Last Name'\n",
    "<font color = 'blue'>"
   ]
  }
 ],
 "metadata": {
  "kernelspec": {
   "display_name": "Python 3",
   "language": "python",
   "name": "python3"
  },
  "language_info": {
   "codemirror_mode": {
    "name": "ipython",
    "version": 3
   },
   "file_extension": ".py",
   "mimetype": "text/x-python",
   "name": "python",
   "nbconvert_exporter": "python",
   "pygments_lexer": "ipython3",
   "version": "3.7.4"
  }
 },
 "nbformat": 4,
 "nbformat_minor": 2
}
